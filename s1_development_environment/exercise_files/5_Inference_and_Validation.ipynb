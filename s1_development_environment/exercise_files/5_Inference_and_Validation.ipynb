{
 "cells": [
  {
   "cell_type": "markdown",
   "metadata": {},
   "source": [
    "# Inference and Validation\n",
    "\n",
    "Now that you have a trained network, you can use it for making predictions. This is typically called **inference**, a term borrowed from statistics. However, neural networks have a tendency to perform *too well* on the training data and aren't able to generalize to data that hasn't been seen before. This is called **overfitting** and it impairs inference performance. To test for overfitting while training, we measure the performance on data not in the training set called the **validation** set. We avoid overfitting through regularization such as dropout while monitoring the validation performance during training. In this notebook, I'll show you how to do this in PyTorch. \n",
    "\n",
    "As usual, let's start by loading the dataset through torchvision. You'll learn more about torchvision and loading data in a later part. This time we'll be taking advantage of the test set which you can get by setting `train=False` here:\n",
    "\n",
    "```python\n",
    "testset = datasets.FashionMNIST('~/.pytorch/F_MNIST_data/', download=True, train=False, transform=transform)\n",
    "```\n",
    "\n",
    "The test set contains images just like the training set. Typically you'll see 10-20% of the original dataset held out for testing and validation with the rest being used for training."
   ]
  },
  {
   "cell_type": "code",
   "execution_count": 6,
   "metadata": {},
   "outputs": [],
   "source": [
    "import torch\n",
    "from torchvision import datasets, transforms\n",
    "\n",
    "# Define a transform to normalize the data\n",
    "transform = transforms.Compose([transforms.ToTensor(), transforms.Normalize((0.5,), (0.5,))])\n",
    "# Download and load the training data\n",
    "trainset = datasets.FashionMNIST(\"~/.pytorch/F_MNIST_data/\", download=True, train=True, transform=transform)\n",
    "trainloader = torch.utils.data.DataLoader(trainset, batch_size=64, shuffle=True)\n",
    "\n",
    "# Download and load the test data\n",
    "testset = datasets.FashionMNIST(\"~/.pytorch/F_MNIST_data/\", download=True, train=False, transform=transform)\n",
    "testloader = torch.utils.data.DataLoader(testset, batch_size=64, shuffle=True)"
   ]
  },
  {
   "cell_type": "markdown",
   "metadata": {},
   "source": [
    "Here I'll create a model like normal, using the same one from my solution for part 4."
   ]
  },
  {
   "cell_type": "code",
   "execution_count": 7,
   "metadata": {},
   "outputs": [],
   "source": [
    "from torch import nn, optim\n",
    "from torch.nn.functional import log_softmax, relu\n",
    "\n",
    "\n",
    "class Classifier(nn.Module):\n",
    "    \"\"\"Classifier network with dropout.\"\"\"\n",
    "\n",
    "    def __init__(self) -> None:\n",
    "        super().__init__()\n",
    "        self.fc1 = nn.Linear(784, 256)\n",
    "        self.fc2 = nn.Linear(256, 128)\n",
    "        self.fc3 = nn.Linear(128, 64)\n",
    "        self.fc4 = nn.Linear(64, 10)\n",
    "\n",
    "    def forward(self, x):\n",
    "        \"\"\"Forward pass through the network, returns the output logits.\"\"\"\n",
    "        # make sure input tensor is flattened\n",
    "        x = x.view(x.shape[0], -1)\n",
    "\n",
    "        x = relu(self.fc1(x))\n",
    "        x = relu(self.fc2(x))\n",
    "        x = relu(self.fc3(x))\n",
    "        return log_softmax(self.fc4(x), dim=1)"
   ]
  },
  {
   "cell_type": "markdown",
   "metadata": {},
   "source": [
    "The goal of validation is to measure the model's performance on data that isn't part of the training set. Performance here is up to the developer to define though. Typically this is just accuracy, the percentage of classes the network predicted correctly. Other options are [precision and recall](https://en.wikipedia.org/wiki/Precision_and_recall#Definition_(classification_context)) and top-5 error rate. We'll focus on accuracy here. First I'll do a forward pass with one batch from the test set."
   ]
  },
  {
   "cell_type": "code",
   "execution_count": 8,
   "metadata": {},
   "outputs": [
    {
     "name": "stdout",
     "output_type": "stream",
     "text": [
      "torch.Size([64, 10])\n"
     ]
    }
   ],
   "source": [
    "model = Classifier()\n",
    "\n",
    "images, labels = next(iter(testloader))\n",
    "# Get the class probabilities\n",
    "ps = torch.exp(model(images))\n",
    "# Make sure the shape is appropriate, we should get 10 class probabilities for 64 examples\n",
    "print(ps.shape)"
   ]
  },
  {
   "cell_type": "markdown",
   "metadata": {},
   "source": [
    "With the probabilities, we can get the most likely class using the `ps.topk` method. This returns the $k$ highest values. Since we just want the most likely class, we can use `ps.topk(1)`. This returns a tuple of the top-$k$ values and the top-$k$ indices. If the highest value is the fifth element, we'll get back 4 as the index."
   ]
  },
  {
   "cell_type": "code",
   "execution_count": 9,
   "metadata": {},
   "outputs": [
    {
     "name": "stdout",
     "output_type": "stream",
     "text": [
      "tensor([[4],\n",
      "        [4],\n",
      "        [4],\n",
      "        [4],\n",
      "        [4],\n",
      "        [9],\n",
      "        [4],\n",
      "        [4],\n",
      "        [9],\n",
      "        [4]])\n"
     ]
    }
   ],
   "source": [
    "top_p, top_class = ps.topk(1, dim=1)\n",
    "# Look at the most likely classes for the first 10 examples\n",
    "print(top_class[:10, :])"
   ]
  },
  {
   "cell_type": "markdown",
   "metadata": {},
   "source": [
    "Now we can check if the predicted classes match the labels. This is simple to do by equating `top_class` and `labels`, but we have to be careful of the shapes. Here `top_class` is a 2D tensor with shape `(64, 1)` while `labels` is 1D with shape `(64)`. To get the equality to work out the way we want, `top_class` and `labels` must have the same shape.\n",
    "\n",
    "If we do\n",
    "\n",
    "```python\n",
    "equals = top_class == labels\n",
    "```\n",
    "\n",
    "`equals` will have shape `(64, 64)`, try it yourself. What it's doing is comparing the one element in each row of `top_class` with each element in `labels` which returns 64 True/False boolean values for each row. To avoid this, we use the `.view` method on `labels` to turn it into the same shape as `top_class`. (The `*top_class.shape` unpacks the shape values, so in this case it's the same as writing `labels.view(64, 1)`)."
   ]
  },
  {
   "cell_type": "code",
   "execution_count": 10,
   "metadata": {},
   "outputs": [],
   "source": [
    "equals = top_class == labels.view(*top_class.shape)"
   ]
  },
  {
   "cell_type": "markdown",
   "metadata": {},
   "source": [
    "Now we need to calculate the percentage of correct predictions. `equals` has binary values, either 0 or 1. This means that if we just sum up all the values and divide by the number of values, we get the percentage of correct predictions. This is the same operation as taking the mean, so we can get the accuracy with a call to `torch.mean`. If only it was that simple. If you try `torch.mean(equals)`, you'll get an error\n",
    "\n",
    "```\n",
    "RuntimeError: mean is not implemented for type torch.ByteTensor\n",
    "```\n",
    "\n",
    "This happens because `equals` has type `torch.ByteTensor` but `torch.mean` isn't implemented for tensors with that type. So we'll need to convert `equals` to a float tensor. Note that when we take `torch.mean` it returns a scalar tensor, to get the actual value as a float we'll need to do `accuracy.item()`."
   ]
  },
  {
   "cell_type": "code",
   "execution_count": 11,
   "metadata": {},
   "outputs": [
    {
     "name": "stdout",
     "output_type": "stream",
     "text": [
      "Accuracy: 10.9375%\n"
     ]
    }
   ],
   "source": [
    "accuracy = torch.mean(equals.type(torch.FloatTensor))\n",
    "print(f\"Accuracy: {accuracy.item()*100}%\")"
   ]
  },
  {
   "cell_type": "markdown",
   "metadata": {},
   "source": [
    "The network is untrained so it's making random guesses and we should see an accuracy around 10%. Now let's train our network and include our validation pass so we can measure how well the network is performing on the test set. Since we're not updating our parameters in the validation pass, we can speed up our code by turning off gradients using `torch.no_grad()`:\n",
    "\n",
    "```python\n",
    "# turn off gradients\n",
    "with torch.no_grad():\n",
    "    # validation pass here\n",
    "    for images, labels in testloader:\n",
    "        ...\n",
    "```\n",
    "\n",
    ">**Exercise:** Implement the validation loop below and print out the total accuracy after the loop. You can largely copy and paste the code from above, but I suggest typing it in because writing it out yourself is essential for building the skill. In general you'll always learn more by typing it rather than copy-pasting. You should be able to get an accuracy above 80%."
   ]
  },
  {
   "cell_type": "code",
   "execution_count": 26,
   "metadata": {},
   "outputs": [
    {
     "name": "stdout",
     "output_type": "stream",
     "text": [
      "running_loss: 487.71315854787827\n",
      "running_loss: 364.8237479031086\n",
      "running_loss: 334.68577140569687\n",
      "running_loss: 314.66082479804754\n",
      "running_loss: 295.91869899630547\n",
      "running_loss: 286.4002531170845\n",
      "running_loss: 272.4587735310197\n",
      "running_loss: 265.1856181919575\n",
      "running_loss: 257.77574893832207\n",
      "running_loss: 248.54027296602726\n",
      "running_loss: 242.38466132432222\n",
      "running_loss: 236.70116409659386\n",
      "running_loss: 231.43580146878958\n",
      "running_loss: 225.635433036834\n",
      "running_loss: 223.9345631748438\n",
      "running_loss: 217.4271345604211\n",
      "running_loss: 217.11204071715474\n",
      "running_loss: 211.65987815335393\n",
      "running_loss: 205.36767556145787\n",
      "running_loss: 206.11018231883645\n"
     ]
    }
   ],
   "source": [
    "model = Classifier()\n",
    "criterion = nn.NLLLoss()\n",
    "optimizer = optim.Adam(model.parameters(), lr=0.003)\n",
    "\n",
    "epochs = 20\n",
    "steps = 0\n",
    "\n",
    "train_losses, test_losses = [], []\n",
    "for _ in range(epochs):\n",
    "    running_loss = 0\n",
    "    for images, labels in trainloader:\n",
    "        optimizer.zero_grad()\n",
    "\n",
    "        log_ps = model(images)\n",
    "        loss = criterion(log_ps, labels)\n",
    "        loss.backward()\n",
    "        optimizer.step()\n",
    "\n",
    "        running_loss += loss.item()\n",
    "\n",
    "    else:\n",
    "        print(f\"running_loss: {running_loss}\")\n"
   ]
  },
  {
   "cell_type": "code",
   "execution_count": 27,
   "metadata": {},
   "outputs": [
    {
     "name": "stdout",
     "output_type": "stream",
     "text": [
      "accuracy: 79.6875%\n",
      "accuracy: 82.8125%\n",
      "accuracy: 79.6875%\n",
      "accuracy: 92.1875%\n",
      "accuracy: 82.8125%\n",
      "accuracy: 85.9375%\n",
      "accuracy: 81.25%\n",
      "accuracy: 87.5%\n",
      "accuracy: 87.5%\n",
      "accuracy: 78.125%\n",
      "accuracy: 90.625%\n",
      "accuracy: 90.625%\n",
      "accuracy: 85.9375%\n",
      "accuracy: 89.0625%\n",
      "accuracy: 78.125%\n",
      "accuracy: 85.9375%\n",
      "accuracy: 85.9375%\n",
      "accuracy: 84.375%\n",
      "accuracy: 87.5%\n",
      "accuracy: 92.1875%\n",
      "accuracy: 76.5625%\n",
      "accuracy: 87.5%\n",
      "accuracy: 82.8125%\n",
      "accuracy: 84.375%\n",
      "accuracy: 81.25%\n",
      "accuracy: 89.0625%\n",
      "accuracy: 87.5%\n",
      "accuracy: 92.1875%\n",
      "accuracy: 95.3125%\n",
      "accuracy: 93.75%\n",
      "accuracy: 82.8125%\n",
      "accuracy: 89.0625%\n",
      "accuracy: 90.625%\n",
      "accuracy: 87.5%\n",
      "accuracy: 85.9375%\n",
      "accuracy: 84.375%\n",
      "accuracy: 87.5%\n",
      "accuracy: 96.875%\n",
      "accuracy: 87.5%\n",
      "accuracy: 71.875%\n",
      "accuracy: 87.5%\n",
      "accuracy: 87.5%\n",
      "accuracy: 87.5%\n",
      "accuracy: 85.9375%\n",
      "accuracy: 89.0625%\n",
      "accuracy: 89.0625%\n",
      "accuracy: 87.5%\n",
      "accuracy: 81.25%\n",
      "accuracy: 89.0625%\n",
      "accuracy: 87.5%\n",
      "accuracy: 89.0625%\n",
      "accuracy: 79.6875%\n",
      "accuracy: 87.5%\n",
      "accuracy: 93.75%\n",
      "accuracy: 93.75%\n",
      "accuracy: 92.1875%\n",
      "accuracy: 93.75%\n",
      "accuracy: 89.0625%\n",
      "accuracy: 89.0625%\n",
      "accuracy: 92.1875%\n",
      "accuracy: 87.5%\n",
      "accuracy: 92.1875%\n",
      "accuracy: 81.25%\n",
      "accuracy: 96.875%\n",
      "accuracy: 87.5%\n",
      "accuracy: 90.625%\n",
      "accuracy: 89.0625%\n",
      "accuracy: 85.9375%\n",
      "accuracy: 95.3125%\n",
      "accuracy: 92.1875%\n",
      "accuracy: 89.0625%\n",
      "accuracy: 84.375%\n",
      "accuracy: 92.1875%\n",
      "accuracy: 92.1875%\n",
      "accuracy: 78.125%\n",
      "accuracy: 82.8125%\n",
      "accuracy: 92.1875%\n",
      "accuracy: 89.0625%\n",
      "accuracy: 87.5%\n",
      "accuracy: 87.5%\n",
      "accuracy: 87.5%\n",
      "accuracy: 82.8125%\n",
      "accuracy: 87.5%\n",
      "accuracy: 82.8125%\n",
      "accuracy: 89.0625%\n",
      "accuracy: 90.625%\n",
      "accuracy: 89.0625%\n",
      "accuracy: 90.625%\n",
      "accuracy: 89.0625%\n",
      "accuracy: 90.625%\n",
      "accuracy: 90.625%\n",
      "accuracy: 90.625%\n",
      "accuracy: 84.375%\n",
      "accuracy: 92.1875%\n",
      "accuracy: 87.5%\n",
      "accuracy: 85.9375%\n",
      "accuracy: 89.0625%\n",
      "accuracy: 84.375%\n",
      "accuracy: 92.1875%\n",
      "accuracy: 85.9375%\n",
      "accuracy: 87.5%\n",
      "accuracy: 84.375%\n",
      "accuracy: 84.375%\n",
      "accuracy: 87.5%\n",
      "accuracy: 84.375%\n",
      "accuracy: 92.1875%\n",
      "accuracy: 89.0625%\n",
      "accuracy: 85.9375%\n",
      "accuracy: 87.5%\n",
      "accuracy: 85.9375%\n",
      "accuracy: 87.5%\n",
      "accuracy: 90.625%\n",
      "accuracy: 87.5%\n",
      "accuracy: 95.3125%\n",
      "accuracy: 95.3125%\n",
      "accuracy: 89.0625%\n",
      "accuracy: 87.5%\n",
      "accuracy: 82.8125%\n",
      "accuracy: 84.375%\n",
      "accuracy: 89.0625%\n",
      "accuracy: 85.9375%\n",
      "accuracy: 89.0625%\n",
      "accuracy: 92.1875%\n",
      "accuracy: 89.0625%\n",
      "accuracy: 92.1875%\n",
      "accuracy: 81.25%\n",
      "accuracy: 93.75%\n",
      "accuracy: 89.0625%\n",
      "accuracy: 90.625%\n",
      "accuracy: 92.1875%\n",
      "accuracy: 89.0625%\n",
      "accuracy: 89.0625%\n",
      "accuracy: 89.0625%\n",
      "accuracy: 89.0625%\n",
      "accuracy: 90.625%\n",
      "accuracy: 92.1875%\n",
      "accuracy: 85.9375%\n",
      "accuracy: 85.9375%\n",
      "accuracy: 90.625%\n",
      "accuracy: 84.375%\n",
      "accuracy: 93.75%\n",
      "accuracy: 84.375%\n",
      "accuracy: 90.625%\n",
      "accuracy: 89.0625%\n",
      "accuracy: 87.5%\n",
      "accuracy: 82.8125%\n",
      "accuracy: 84.375%\n",
      "accuracy: 90.625%\n",
      "accuracy: 84.375%\n",
      "accuracy: 89.0625%\n",
      "accuracy: 81.25%\n",
      "accuracy: 84.375%\n",
      "accuracy: 90.625%\n",
      "accuracy: 87.5%\n",
      "accuracy: 85.9375%\n",
      "accuracy: 90.625%\n",
      "accuracy: 68.75%\n"
     ]
    }
   ],
   "source": [
    "# TODO: Implement the validation pass and print out the validation accuracy\n",
    "with torch.no_grad():\n",
    "    for images,labels in testloader:\n",
    "        output = torch.exp(model.forward(images))\n",
    "        top_p, top_class = output.topk(1,dim=1)\n",
    "        equals = top_class == labels.view(*top_class.shape)\n",
    "        print(f\"accuracy: {torch.mean(equals.type(torch.FloatTensor)) * 100}%\")"
   ]
  },
  {
   "cell_type": "markdown",
   "metadata": {},
   "source": [
    "## Overfitting\n",
    "\n",
    "If we look at the training and validation losses as we train the network, we can see a phenomenon known as overfitting.\n",
    "\n",
    "<img src='assets/overfitting.png' width=450px>\n",
    "\n",
    "The network learns the training set better and better, resulting in lower training losses. However, it starts having problems generalizing to data outside the training set leading to the validation loss increasing. The ultimate goal of any deep learning model is to make predictions on new data, so we should strive to get the lowest validation loss possible. One option is to use the version of the model with the lowest validation loss, here the one around 8-10 training epochs. This strategy is called *early-stopping*. In practice, you'd save the model frequently as you're training then later choose the model with the lowest validation loss.\n",
    "\n",
    "The most common method to reduce overfitting (outside of early-stopping) is *dropout*, where we randomly drop input units. This forces the network to share information between weights, increasing it's ability to generalize to new data. Adding dropout in PyTorch is straightforward using the [`nn.Dropout`](https://pytorch.org/docs/stable/nn.html#torch.nn.Dropout) module.\n",
    "\n",
    "```python\n",
    "class Classifier(nn.Module):\n",
    "    \"\"\"Classifier network with dropout.\"\"\"\n",
    "    def __init__(self):\n",
    "        super().__init__()\n",
    "        self.fc1 = nn.Linear(784, 256)\n",
    "        self.fc2 = nn.Linear(256, 128)\n",
    "        self.fc3 = nn.Linear(128, 64)\n",
    "        self.fc4 = nn.Linear(64, 10)\n",
    "        \n",
    "        # Dropout module with 0.2 drop probability\n",
    "        self.dropout = nn.Dropout(p=0.2)\n",
    "        \n",
    "    def forward(self, x):\n",
    "        \"\"\" Forward pass through the network, returns the output logits.\"\"\"\n",
    "        # make sure input tensor is flattened\n",
    "        x = x.view(x.shape[0], -1)\n",
    "        \n",
    "        # Now with dropout\n",
    "        x = self.dropout(F.relu(self.fc1(x)))\n",
    "        x = self.dropout(F.relu(self.fc2(x)))\n",
    "        x = self.dropout(F.relu(self.fc3(x)))\n",
    "        \n",
    "        # output so no dropout here\n",
    "        x = F.log_softmax(self.fc4(x), dim=1)\n",
    "        \n",
    "        return x\n",
    "```\n",
    "\n",
    "During training we want to use dropout to prevent overfitting, but during inference we want to use the entire network. So, we need to turn off dropout during validation, testing, and whenever we're using the network to make predictions. To do this, you use `model.eval()`. This sets the model to evaluation mode where the dropout probability is 0. You can turn dropout back on by setting the model to train mode with `model.train()`. In general, the pattern for the validation loop will look like this, where you turn off gradients, set the model to evaluation mode, calculate the validation loss and metric, then set the model back to train mode.\n",
    "\n",
    "```python\n",
    "# turn off gradients\n",
    "with torch.no_grad():\n",
    "    \n",
    "    # set model to evaluation mode\n",
    "    model.eval()\n",
    "    \n",
    "    # validation pass here\n",
    "    for images, labels in testloader:\n",
    "        ...\n",
    "\n",
    "# set model back to train mode\n",
    "model.train()\n",
    "```"
   ]
  },
  {
   "cell_type": "markdown",
   "metadata": {},
   "source": [
    "> **Exercise:** Add dropout to your model and train it on Fashion-MNIST again. See if you can get a lower validation loss or higher accuracy."
   ]
  },
  {
   "cell_type": "code",
   "execution_count": 23,
   "metadata": {},
   "outputs": [],
   "source": [
    "## TODO: Define your model with dropout added"
   ]
  },
  {
   "cell_type": "code",
   "execution_count": null,
   "metadata": {},
   "outputs": [],
   "source": [
    "## TODO: Train your model with dropout, and monitor the training progress with the validation loss and accuracy"
   ]
  },
  {
   "cell_type": "markdown",
   "metadata": {},
   "source": [
    "## Inference\n",
    "\n",
    "Now that the model is trained, we can use it for inference. We've done this before, but now we need to remember to set the model in inference mode with `model.eval()`. You'll also want to turn off autograd with the `torch.no_grad()` context."
   ]
  },
  {
   "cell_type": "code",
   "execution_count": 29,
   "metadata": {},
   "outputs": [
    {
     "data": {
      "image/png": "[encoded data removed]",
      "text/plain": [
       "<Figure size 600x900 with 2 Axes>"
      ]
     },
     "metadata": {},
     "output_type": "display_data"
    }
   ],
   "source": [
    "# Import helper module (should be in the repo)\n",
    "import helper\n",
    "\n",
    "# Test out your network!\n",
    "\n",
    "model.eval()\n",
    "\n",
    "dataiter = iter(testloader)\n",
    "images, labels = next(dataiter)\n",
    "img = images[0]\n",
    "# Convert 2D image to 1D vector\n",
    "img = img.view(1, 784)\n",
    "\n",
    "# Calculate the class probabilities (softmax) for img\n",
    "with torch.no_grad():\n",
    "    output = model.forward(img)\n",
    "\n",
    "ps = torch.exp(output)\n",
    "\n",
    "# Plot the image and probabilities\n",
    "helper.view_classify(img.view(1, 28, 28), ps, version=\"Fashion\")"
   ]
  },
  {
   "cell_type": "markdown",
   "metadata": {},
   "source": [
    "## Next Up!\n",
    "\n",
    "In the next part, I'll show you how to save your trained models. In general, you won't want to train a model every time you need it. Instead, you'll train once, save it, then load the model when you want to train more or use if for inference."
   ]
  }
 ],
 "metadata": {
  "kernelspec": {
   "display_name": "base",
   "language": "python",
   "name": "python3"
  },
  "language_info": {
   "codemirror_mode": {
    "name": "ipython",
    "version": 3
   },
   "file_extension": ".py",
   "mimetype": "text/x-python",
   "name": "python",
   "nbconvert_exporter": "python",
   "pygments_lexer": "ipython3",
   "version": "3.12.7"
  }
 },
 "nbformat": 4,
 "nbformat_minor": 2
}
